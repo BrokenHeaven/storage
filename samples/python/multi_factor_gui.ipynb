{
 "cells": [
  {
   "cell_type": "markdown",
   "metadata": {},
   "source": [
    "### Prerequisites\n",
    "This notebook requires an experimental version of the cmdty-storage package only published on Test PyPI.\n",
    "\n",
    "`\n",
    "pip install -i https://test.pypi.org/simple/ cmdty-storage==0.1.0a10\n",
    "`"
   ]
  },
  {
   "cell_type": "code",
   "execution_count": 1,
   "metadata": {},
   "outputs": [],
   "source": [
    "import pandas as pd\n",
    "import ipywidgets as ipw\n",
    "from cmdty_storage import CmdtyStorage, three_factor_seasonal_value\n",
    "from datetime import date\n",
    "from IPython.display import display, clear_output\n",
    "import threading\n",
    "%matplotlib inline"
   ]
  },
  {
   "cell_type": "markdown",
   "metadata": {},
   "source": [
    "### Important Instructions\n",
    "Input for the forward curve is yet to be developed. In the meantime if you want to udpate the forward price, update the fwd_curve variable in the cell below and execute this cell only before using the GUI."
   ]
  },
  {
   "cell_type": "code",
   "execution_count": 2,
   "metadata": {},
   "outputs": [],
   "source": [
    "def create_piecewise_flat_series(data, dt_index, freq):\n",
    "    period_index = pd.PeriodIndex([pd.Period(dt, freq=freq) for dt in dt_index])\n",
    "    return pd.Series(data, period_index).resample(freq).fillna('pad')\n",
    "today = pd.Period(date.today(), freq='D')\n",
    "fwd_curve = create_piecewise_flat_series([58.89, 61.41, 62.58, 58.9, 43.7], \n",
    "                         [today, today + 30, today + 60, today + 90, today + 150], freq='D')"
   ]
  },
  {
   "cell_type": "code",
   "execution_count": 19,
   "metadata": {
    "scrolled": true
   },
   "outputs": [
    {
     "data": {
      "application/vnd.jupyter.widget-view+json": {
       "model_id": "e7616aa12cb2425aab722dfb947ec42a",
       "version_major": 2,
       "version_minor": 0
      },
      "text/plain": [
       "HBox(children=(VBox(children=(VBox(children=(DatePicker(value=datetime.date(2020, 10, 17), description='Val Da…"
      ]
     },
     "metadata": {},
     "output_type": "display_data"
    },
    {
     "data": {
      "application/vnd.jupyter.widget-view+json": {
       "model_id": "6fb75e95b2e846c89ed8633767cc43a8",
       "version_major": 2,
       "version_minor": 0
      },
      "text/plain": [
       "Button(description='Calculate', style=ButtonStyle())"
      ]
     },
     "metadata": {},
     "output_type": "display_data"
    },
    {
     "data": {
      "application/vnd.jupyter.widget-view+json": {
       "model_id": "ca7baeb123f54fffb2c57cb7a2296b03",
       "version_major": 2,
       "version_minor": 0
      },
      "text/plain": [
       "FloatProgress(value=0.0, max=1.0)"
      ]
     },
     "metadata": {},
     "output_type": "display_data"
    },
    {
     "data": {
      "application/vnd.jupyter.widget-view+json": {
       "model_id": "cd8b5ca51c204ed1beff24df93a833f5",
       "version_major": 2,
       "version_minor": 0
      },
      "text/plain": [
       "Text(value='', description='Full Value', disabled=True)"
      ]
     },
     "metadata": {},
     "output_type": "display_data"
    },
    {
     "data": {
      "application/vnd.jupyter.widget-view+json": {
       "model_id": "e63cd6a515c0415c8e16691c65be27ae",
       "version_major": 2,
       "version_minor": 0
      },
      "text/plain": [
       "Output()"
      ]
     },
     "metadata": {},
     "output_type": "display_data"
    },
    {
     "data": {
      "image/png": "[encoded data removed]",
      "text/plain": [
       "<Figure size 432x288 with 1 Axes>"
      ]
     },
     "metadata": {
      "needs_background": "light"
     },
     "output_type": "display_data"
    }
   ],
   "source": [
    "\n",
    "start_wgt = ipw.DatePicker(description='Start')\n",
    "end_wgt = ipw.DatePicker(description='End')\n",
    "invent_min_wgt = ipw.FloatText(description='Min Inventory')\n",
    "invent_max_wgt = ipw.FloatText(description='Max Inventory')\n",
    "\n",
    "inj_rate_wgt = ipw.FloatText(description='Injection Rate')\n",
    "with_rate_wgt = ipw.FloatText(description='Withdrw Rate')\n",
    "inj_cost_wgt = ipw.FloatText(description='Injection Cost')\n",
    "with_cost_wgt = ipw.FloatText(description='Withdrw Cost')\n",
    "\n",
    "storage_details_wgt = ipw.VBox([start_wgt, end_wgt, invent_min_wgt, invent_max_wgt, \n",
    "                                inj_rate_wgt, with_rate_wgt, inj_cost_wgt, with_cost_wgt])\n",
    "\n",
    "val_date_wgt = ipw.DatePicker(description='Val Date', value=date.today())\n",
    "inventory_wgt = ipw.FloatText(description='Inventory')\n",
    "\n",
    "val_inputs_wgt = ipw.VBox([val_date_wgt, inventory_wgt])\n",
    "\n",
    "ir_wgt = ipw.FloatText(description='Intrst Rate %', step=0.005)\n",
    "mkt_data_wgt = ipw.HBox([ir_wgt])\n",
    "\n",
    "spot_vol_wgt = ipw.FloatText(description='Spot Vol')\n",
    "spot_mr_wgt = ipw.FloatText(description='Spot Mean Rev')\n",
    "lt_vol_wgt = ipw.FloatText(description='Long Term Vol')\n",
    "seas_vol_wgt = ipw.FloatText(description='Seasonal Vol')\n",
    "vol_params_wgt = ipw.VBox([spot_vol_wgt, spot_mr_wgt, lt_vol_wgt, seas_vol_wgt])\n",
    "\n",
    "num_sims_wgt = ipw.IntText(description='Num Sims', value=1000, step=500)\n",
    "random_seed_wgt = ipw.IntText(description='Seed', value=11)\n",
    "grid_points_wgt = ipw.IntText(description='Grid Points', value=100)\n",
    "poly_degree_wgt = ipw.IntText(description='Poly Degree', value=3)\n",
    "reg_cross_wgt = ipw.Checkbox(description='Regress Cross Product', value=False, disabled=True)\n",
    "\n",
    "sim_params_wgt = ipw.VBox([num_sims_wgt, random_seed_wgt, grid_points_wgt, poly_degree_wgt,\n",
    "                              reg_cross_wgt])\n",
    "\n",
    "# Output Widgets\n",
    "progress_wgt = ipw.FloatProgress(min=0.0, max=1.0)\n",
    "full_value_wgt = ipw.Text(description='Full Value', disabled=True)\n",
    "out = ipw.Output()\n",
    "\n",
    "all_inputs_wgt = ipw.HBox([ipw.VBox([val_inputs_wgt, sim_params_wgt]), storage_details_wgt, ipw.VBox([mkt_data_wgt, vol_params_wgt])])\n",
    "\n",
    "def on_progress(progress):\n",
    "    progress_wgt.value = progress\n",
    "\n",
    "# Inputs Not Defined in GUI\n",
    "def twentieth_of_next_month(period): return period.asfreq('M').asfreq('D', 'end') + 20\n",
    "\n",
    "\n",
    "def btn_clicked(b):\n",
    "    progress_wgt.value = 0.0\n",
    "    full_value_wgt.value = ''\n",
    "    btn.disabled = True\n",
    "    with out:\n",
    "        clear_output(wait=True)\n",
    "    try:\n",
    "        storage = CmdtyStorage('D', storage_start=start_wgt.value, storage_end=end_wgt.value, \n",
    "                               injection_cost=inj_cost_wgt.value, withdrawal_cost=with_cost_wgt.value,\n",
    "                              min_inventory=invent_min_wgt.value, max_inventory=invent_max_wgt.value,\n",
    "                              max_injection_rate=inj_rate_wgt.value, max_withdrawal_rate=with_rate_wgt.value)\n",
    "        interest_rate_curve = pd.Series(index=pd.period_range(val_date_wgt.value, \n",
    "                                  twentieth_of_next_month(pd.Period(end_wgt.value, freq='D')), freq='D'), dtype='float64')\n",
    "        interest_rate_curve[:] = ir_wgt.value\n",
    "        val_results_3f = three_factor_seasonal_value(storage, val_date_wgt.value, inventory_wgt.value, fwd_curve=fwd_curve,\n",
    "                                     interest_rates=interest_rate_curve, settlement_rule=twentieth_of_next_month,\n",
    "                                    spot_mean_reversion=spot_mr_wgt.value, spot_vol=spot_vol_wgt.value,\n",
    "                                    long_term_vol=lt_vol_wgt.value, seasonal_vol=seas_vol_wgt.value,\n",
    "                                    num_sims=num_sims_wgt.value, seed=random_seed_wgt.value,\n",
    "                                    regress_poly_degree=poly_degree_wgt.value, regress_cross_products=reg_cross_wgt.value,\n",
    "                                    num_inventory_grid_points=grid_points_wgt.value, on_progress_update=on_progress)\n",
    "        full_value_wgt.value = \"{0:,.0f}\".format(val_results_3f.npv)\n",
    "        with out:\n",
    "            val_results_3f.deltas.plot(legend=True)\n",
    "            ax = fwd_curve.plot(legend=True)\n",
    "            ax.legend(['Delta', 'Forward Curve'])\n",
    "    except Exception as e:\n",
    "        with out:\n",
    "            print('Exception:')\n",
    "            print(e)\n",
    "    finally:\n",
    "        btn.disabled = False\n",
    "    \n",
    "\n",
    "btn = ipw.Button(description='Calculate')\n",
    "btn.on_click(btn_clicked)  \n",
    "\n",
    "display(all_inputs_wgt)\n",
    "#display(sim_params_wgt)\n",
    "display(btn)\n",
    "display(progress_wgt)\n",
    "display(full_value_wgt)\n",
    "display(out)"
   ]
  },
  {
   "cell_type": "markdown",
   "metadata": {},
   "source": [
    "### To Do\n",
    "* GUI input for forward curve.\n",
    "* Secondary axis on charts.\n",
    "* Stop chart from duplicating on each run.\n",
    "* Intrinsic valuation and deltas.\n",
    "* Interest rate curve, not flat rate.\n",
    "* Inject/withdraw rate ratchets\n",
    "* Ability to select granularity.\n",
    "* Default inputs?"
   ]
  },
  {
   "cell_type": "code",
   "execution_count": 8,
   "metadata": {},
   "outputs": [
    {
     "data": {
      "application/vnd.jupyter.widget-view+json": {
       "model_id": "df45b539818149b893c976964676faeb",
       "version_major": 2,
       "version_minor": 0
      },
      "text/plain": [
       "Button(description='Populate Test Data', style=ButtonStyle())"
      ]
     },
     "metadata": {},
     "output_type": "display_data"
    }
   ],
   "source": [
    "from datetime import timedelta\n",
    "\n",
    "def btn_clicked_2(b):\n",
    "    today = date.today()\n",
    "    inventory_wgt.value = 1456\n",
    "    start_wgt.value = today + timedelta(days=5)\n",
    "    end_wgt.value = today + timedelta(days=60)\n",
    "    invent_max_wgt.value = 100000\n",
    "    inj_rate_wgt.value = 260\n",
    "    with_rate_wgt.value = 130\n",
    "    inj_cost_wgt.value = 1.1\n",
    "    with_cost_wgt.value = 1.3\n",
    "    ir_wgt.value = 0.005\n",
    "    spot_vol_wgt.value = 1.23\n",
    "    spot_mr_wgt.value = 14.5\n",
    "    lt_vol_wgt.value = 0.23\n",
    "    seas_vol_wgt.value = 0.39    \n",
    "    \n",
    "btn2 = ipw.Button(description='Populate Test Data')\n",
    "btn2.on_click(btn_clicked_2)\n",
    "\n",
    "display(btn2)"
   ]
  }
 ],
 "metadata": {
  "kernelspec": {
   "display_name": "Python 3",
   "language": "python",
   "name": "python3"
  },
  "language_info": {
   "codemirror_mode": {
    "name": "ipython",
    "version": 3
   },
   "file_extension": ".py",
   "mimetype": "text/x-python",
   "name": "python",
   "nbconvert_exporter": "python",
   "pygments_lexer": "ipython3",
   "version": "3.7.1"
  }
 },
 "nbformat": 4,
 "nbformat_minor": 2
}
