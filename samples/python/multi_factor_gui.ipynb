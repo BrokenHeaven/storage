{
 "cells": [
  {
   "cell_type": "markdown",
   "metadata": {},
   "source": [
    "## Prerequisites\n",
    "This notebook requires an experimental version of the cmdty-storage package only published on Test PyPI, plus the package ipysheet which provides the input grids.\n",
    "\n",
    "`\n",
    "pip install -i https://test.pypi.org/simple/ cmdty-storage==0.1.0a16\n",
    "pip install ipysheet\n",
    "`\n",
    "\n",
    "If this notebook has been downloaded standalone, i.e. without downloading the whole storage repo,\n",
    "it requires the file [storage_gui.py](https://github.com/cmdty/storage/blob/master/samples/python/storage_gui.py) be in the same directory.\n"
   ]
  },
  {
   "cell_type": "code",
   "execution_count": 1,
   "metadata": {
    "scrolled": false
   },
   "outputs": [
    {
     "data": {
      "application/vnd.jupyter.widget-view+json": {
       "model_id": "3bd792fc4cb145e8a59df31e19875761",
       "version_major": 2,
       "version_minor": 0
      },
      "text/plain": [
       "Tab(children=(VBox(children=(DatePicker(value=datetime.date(2020, 12, 2), description='Val Date'), FloatText(v…"
      ]
     },
     "metadata": {},
     "output_type": "display_data"
    },
    {
     "data": {
      "application/vnd.jupyter.widget-view+json": {
       "model_id": "5e62610ae79c4d28870ec3f389b43daf",
       "version_major": 2,
       "version_minor": 0
      },
      "text/plain": [
       "HBox(children=(VBox(children=(Button(description='Calculate', style=ButtonStyle()), FloatProgress(value=0.0, m…"
      ]
     },
     "metadata": {},
     "output_type": "display_data"
    },
    {
     "data": {
      "application/vnd.jupyter.widget-view+json": {
       "model_id": "bc16759101824435aed7a7d31bfd223b",
       "version_major": 2,
       "version_minor": 0
      },
      "text/plain": [
       "Tab(children=(HBox(children=(VBox(children=(Text(value='', description='Full Value', disabled=True), Text(valu…"
      ]
     },
     "metadata": {},
     "output_type": "display_data"
    }
   ],
   "source": [
    "%matplotlib inline\n",
    "import storage_gui as sg\n",
    "sg.display_gui()"
   ]
  },
  {
   "cell_type": "markdown",
   "metadata": {},
   "source": [
    "### To Do\n",
    "* Sort out truncation of labels.\n",
    "* Interest rate curve, not flat rate.\n",
    "* Ability to select granularity.\n",
    "* Display more output data as tables using qgrid:\n",
    "    * Trigger price.\n",
    "    * Projected inventory.\n",
    "    * Simulation results.\n",
    "    "
   ]
  },
  {
   "cell_type": "code",
   "execution_count": 2,
   "metadata": {},
   "outputs": [
    {
     "data": {
      "application/vnd.jupyter.widget-view+json": {
       "model_id": "7dfb608c6adf4eb4b7e73f37bd99db46",
       "version_major": 2,
       "version_minor": 0
      },
      "text/plain": [
       "Button(description='Populate Test Data', style=ButtonStyle())"
      ]
     },
     "metadata": {},
     "output_type": "display_data"
    }
   ],
   "source": [
    "sg.test_data_btn()"
   ]
  },
  {
   "cell_type": "code",
   "execution_count": 16,
   "metadata": {},
   "outputs": [
    {
     "data": {
      "application/vnd.jupyter.widget-view+json": {
       "model_id": "2d4cc9d3761544968ab2f245dd7492bb",
       "version_major": 2,
       "version_minor": 0
      },
      "text/plain": [
       "Button(description='Display Data Grids', style=ButtonStyle())"
      ]
     },
     "metadata": {},
     "output_type": "display_data"
    },
    {
     "data": {
      "text/html": [
       "<div>\n",
       "<style scoped>\n",
       "    .dataframe tbody tr th:only-of-type {\n",
       "        vertical-align: middle;\n",
       "    }\n",
       "\n",
       "    .dataframe tbody tr th {\n",
       "        vertical-align: top;\n",
       "    }\n",
       "\n",
       "    .dataframe thead th {\n",
       "        text-align: right;\n",
       "    }\n",
       "</style>\n",
       "<table border=\"1\" class=\"dataframe\">\n",
       "  <thead>\n",
       "    <tr style=\"text-align: right;\">\n",
       "      <th></th>\n",
       "      <th>0</th>\n",
       "    </tr>\n",
       "  </thead>\n",
       "  <tbody>\n",
       "    <tr>\n",
       "      <th>2020-12-07</th>\n",
       "      <td>-115.809096</td>\n",
       "    </tr>\n",
       "    <tr>\n",
       "      <th>2020-12-08</th>\n",
       "      <td>-112.290954</td>\n",
       "    </tr>\n",
       "    <tr>\n",
       "      <th>2020-12-09</th>\n",
       "      <td>-98.904504</td>\n",
       "    </tr>\n",
       "    <tr>\n",
       "      <th>2020-12-10</th>\n",
       "      <td>-95.884983</td>\n",
       "    </tr>\n",
       "    <tr>\n",
       "      <th>2020-12-11</th>\n",
       "      <td>-87.838533</td>\n",
       "    </tr>\n",
       "    <tr>\n",
       "      <th>...</th>\n",
       "      <td>...</td>\n",
       "    </tr>\n",
       "    <tr>\n",
       "      <th>2021-12-13</th>\n",
       "      <td>110.047116</td>\n",
       "    </tr>\n",
       "    <tr>\n",
       "      <th>2021-12-14</th>\n",
       "      <td>109.639508</td>\n",
       "    </tr>\n",
       "    <tr>\n",
       "      <th>2021-12-15</th>\n",
       "      <td>110.816332</td>\n",
       "    </tr>\n",
       "    <tr>\n",
       "      <th>2021-12-16</th>\n",
       "      <td>109.716376</td>\n",
       "    </tr>\n",
       "    <tr>\n",
       "      <th>2021-12-17</th>\n",
       "      <td>0.000000</td>\n",
       "    </tr>\n",
       "  </tbody>\n",
       "</table>\n",
       "<p>376 rows × 1 columns</p>\n",
       "</div>"
      ],
      "text/plain": [
       "                     0\n",
       "2020-12-07 -115.809096\n",
       "2020-12-08 -112.290954\n",
       "2020-12-09  -98.904504\n",
       "2020-12-10  -95.884983\n",
       "2020-12-11  -87.838533\n",
       "...                ...\n",
       "2021-12-13  110.047116\n",
       "2021-12-14  109.639508\n",
       "2021-12-15  110.816332\n",
       "2021-12-16  109.716376\n",
       "2021-12-17    0.000000\n",
       "\n",
       "[376 rows x 1 columns]"
      ]
     },
     "metadata": {},
     "output_type": "display_data"
    },
    {
     "data": {
      "text/html": [
       "<div>\n",
       "<style scoped>\n",
       "    .dataframe tbody tr th:only-of-type {\n",
       "        vertical-align: middle;\n",
       "    }\n",
       "\n",
       "    .dataframe tbody tr th {\n",
       "        vertical-align: top;\n",
       "    }\n",
       "\n",
       "    .dataframe thead th {\n",
       "        text-align: right;\n",
       "    }\n",
       "</style>\n",
       "<table border=\"1\" class=\"dataframe\">\n",
       "  <thead>\n",
       "    <tr style=\"text-align: right;\">\n",
       "      <th></th>\n",
       "      <th>inventory</th>\n",
       "      <th>inject_withdraw_volume</th>\n",
       "      <th>cmdty_consumed</th>\n",
       "      <th>inventory_loss</th>\n",
       "      <th>net_volume</th>\n",
       "      <th>period_pv</th>\n",
       "    </tr>\n",
       "  </thead>\n",
       "  <tbody>\n",
       "    <tr>\n",
       "      <th>2020-12-07</th>\n",
       "      <td>1456.000</td>\n",
       "      <td>132.080</td>\n",
       "      <td>1.917760</td>\n",
       "      <td>0.0</td>\n",
       "      <td>-133.997760</td>\n",
       "      <td>-7011.863922</td>\n",
       "    </tr>\n",
       "    <tr>\n",
       "      <th>2020-12-08</th>\n",
       "      <td>1588.080</td>\n",
       "      <td>129.740</td>\n",
       "      <td>1.908920</td>\n",
       "      <td>0.0</td>\n",
       "      <td>-131.648920</td>\n",
       "      <td>-6803.490972</td>\n",
       "    </tr>\n",
       "    <tr>\n",
       "      <th>2020-12-09</th>\n",
       "      <td>1717.820</td>\n",
       "      <td>117.520</td>\n",
       "      <td>1.932320</td>\n",
       "      <td>0.0</td>\n",
       "      <td>-119.452320</td>\n",
       "      <td>-6014.727373</td>\n",
       "    </tr>\n",
       "    <tr>\n",
       "      <th>2020-12-10</th>\n",
       "      <td>1835.340</td>\n",
       "      <td>115.960</td>\n",
       "      <td>1.945840</td>\n",
       "      <td>0.0</td>\n",
       "      <td>-117.905840</td>\n",
       "      <td>-5837.804357</td>\n",
       "    </tr>\n",
       "    <tr>\n",
       "      <th>2020-12-11</th>\n",
       "      <td>1951.300</td>\n",
       "      <td>109.330</td>\n",
       "      <td>1.948700</td>\n",
       "      <td>0.0</td>\n",
       "      <td>-111.278700</td>\n",
       "      <td>-5362.899341</td>\n",
       "    </tr>\n",
       "    <tr>\n",
       "      <th>...</th>\n",
       "      <td>...</td>\n",
       "      <td>...</td>\n",
       "      <td>...</td>\n",
       "      <td>...</td>\n",
       "      <td>...</td>\n",
       "      <td>...</td>\n",
       "    </tr>\n",
       "    <tr>\n",
       "      <th>2021-12-13</th>\n",
       "      <td>439.218</td>\n",
       "      <td>-109.980</td>\n",
       "      <td>1.986920</td>\n",
       "      <td>0.0</td>\n",
       "      <td>107.993080</td>\n",
       "      <td>6581.292405</td>\n",
       "    </tr>\n",
       "    <tr>\n",
       "      <th>2021-12-14</th>\n",
       "      <td>329.238</td>\n",
       "      <td>-109.538</td>\n",
       "      <td>1.982604</td>\n",
       "      <td>0.0</td>\n",
       "      <td>107.555396</td>\n",
       "      <td>6556.649776</td>\n",
       "    </tr>\n",
       "    <tr>\n",
       "      <th>2021-12-15</th>\n",
       "      <td>219.700</td>\n",
       "      <td>-110.318</td>\n",
       "      <td>1.985724</td>\n",
       "      <td>0.0</td>\n",
       "      <td>108.332276</td>\n",
       "      <td>6628.480992</td>\n",
       "    </tr>\n",
       "    <tr>\n",
       "      <th>2021-12-16</th>\n",
       "      <td>109.382</td>\n",
       "      <td>-109.382</td>\n",
       "      <td>1.968876</td>\n",
       "      <td>0.0</td>\n",
       "      <td>107.413124</td>\n",
       "      <td>6562.483385</td>\n",
       "    </tr>\n",
       "    <tr>\n",
       "      <th>2021-12-17</th>\n",
       "      <td>0.000</td>\n",
       "      <td>0.000</td>\n",
       "      <td>0.000000</td>\n",
       "      <td>0.0</td>\n",
       "      <td>0.000000</td>\n",
       "      <td>0.000000</td>\n",
       "    </tr>\n",
       "  </tbody>\n",
       "</table>\n",
       "<p>376 rows × 6 columns</p>\n",
       "</div>"
      ],
      "text/plain": [
       "            inventory  inject_withdraw_volume  cmdty_consumed  inventory_loss  \\\n",
       "2020-12-07   1456.000                 132.080        1.917760             0.0   \n",
       "2020-12-08   1588.080                 129.740        1.908920             0.0   \n",
       "2020-12-09   1717.820                 117.520        1.932320             0.0   \n",
       "2020-12-10   1835.340                 115.960        1.945840             0.0   \n",
       "2020-12-11   1951.300                 109.330        1.948700             0.0   \n",
       "...               ...                     ...             ...             ...   \n",
       "2021-12-13    439.218                -109.980        1.986920             0.0   \n",
       "2021-12-14    329.238                -109.538        1.982604             0.0   \n",
       "2021-12-15    219.700                -110.318        1.985724             0.0   \n",
       "2021-12-16    109.382                -109.382        1.968876             0.0   \n",
       "2021-12-17      0.000                   0.000        0.000000             0.0   \n",
       "\n",
       "            net_volume    period_pv  \n",
       "2020-12-07 -133.997760 -7011.863922  \n",
       "2020-12-08 -131.648920 -6803.490972  \n",
       "2020-12-09 -119.452320 -6014.727373  \n",
       "2020-12-10 -117.905840 -5837.804357  \n",
       "2020-12-11 -111.278700 -5362.899341  \n",
       "...                ...          ...  \n",
       "2021-12-13  107.993080  6581.292405  \n",
       "2021-12-14  107.555396  6556.649776  \n",
       "2021-12-15  108.332276  6628.480992  \n",
       "2021-12-16  107.413124  6562.483385  \n",
       "2021-12-17    0.000000     0.000000  \n",
       "\n",
       "[376 rows x 6 columns]"
      ]
     },
     "metadata": {},
     "output_type": "display_data"
    },
    {
     "ename": "NameError",
     "evalue": "name 'diplay' is not defined",
     "output_type": "error",
     "traceback": [
      "\u001b[1;31m---------------------------------------------------------------------------\u001b[0m",
      "\u001b[1;31mNameError\u001b[0m                                 Traceback (most recent call last)",
      "\u001b[1;32m<ipython-input-16-83709037768b>\u001b[0m in \u001b[0;36mon_print_grid\u001b[1;34m(b)\u001b[0m\n\u001b[0;32m      2\u001b[0m     \u001b[0mdisplay\u001b[0m\u001b[1;33m(\u001b[0m\u001b[0msg\u001b[0m\u001b[1;33m.\u001b[0m\u001b[0mval_results_3f\u001b[0m\u001b[1;33m.\u001b[0m\u001b[0mdeltas\u001b[0m\u001b[1;33m.\u001b[0m\u001b[0mto_frame\u001b[0m\u001b[1;33m(\u001b[0m\u001b[1;33m)\u001b[0m\u001b[1;33m)\u001b[0m\u001b[1;33m\u001b[0m\u001b[1;33m\u001b[0m\u001b[0m\n\u001b[0;32m      3\u001b[0m     \u001b[0mdisplay\u001b[0m\u001b[1;33m(\u001b[0m\u001b[0msg\u001b[0m\u001b[1;33m.\u001b[0m\u001b[0mval_results_3f\u001b[0m\u001b[1;33m.\u001b[0m\u001b[0mexpected_profile\u001b[0m\u001b[1;33m)\u001b[0m\u001b[1;33m\u001b[0m\u001b[1;33m\u001b[0m\u001b[0m\n\u001b[1;32m----> 4\u001b[1;33m     \u001b[0mdiplay\u001b[0m\u001b[1;33m(\u001b[0m\u001b[0msg\u001b[0m\u001b[1;33m.\u001b[0m\u001b[0mval_results_3f\u001b[0m\u001b[1;33m.\u001b[0m\u001b[0mtrigger_price\u001b[0m\u001b[1;33m)\u001b[0m\u001b[1;33m\u001b[0m\u001b[1;33m\u001b[0m\u001b[0m\n\u001b[0m\u001b[0;32m      5\u001b[0m \u001b[1;33m\u001b[0m\u001b[0m\n\u001b[0;32m      6\u001b[0m \u001b[0mbtn_print_grid\u001b[0m \u001b[1;33m=\u001b[0m \u001b[0msg\u001b[0m\u001b[1;33m.\u001b[0m\u001b[0mipw\u001b[0m\u001b[1;33m.\u001b[0m\u001b[0mButton\u001b[0m\u001b[1;33m(\u001b[0m\u001b[0mdescription\u001b[0m\u001b[1;33m=\u001b[0m\u001b[1;34m'Display Data Grids'\u001b[0m\u001b[1;33m)\u001b[0m\u001b[1;33m\u001b[0m\u001b[1;33m\u001b[0m\u001b[0m\n",
      "\u001b[1;31mNameError\u001b[0m: name 'diplay' is not defined"
     ]
    }
   ],
   "source": [
    "def on_print_grid(b):\n",
    "    display(sg.val_results_3f.deltas.to_frame())\n",
    "    display(sg.val_results_3f.expected_profile)\n",
    "    diplay(sg.val_results_3f.trigger_price)\n",
    "\n",
    "btn_print_grid = sg.ipw.Button(description='Display Data Grids')\n",
    "btn_print_grid.on_click(on_print_grid)\n",
    "btn_print_grid"
   ]
  }
 ],
 "metadata": {
  "kernelspec": {
   "display_name": "Python 3",
   "language": "python",
   "name": "python3"
  },
  "language_info": {
   "codemirror_mode": {
    "name": "ipython",
    "version": 3
   },
   "file_extension": ".py",
   "mimetype": "text/x-python",
   "name": "python",
   "nbconvert_exporter": "python",
   "pygments_lexer": "ipython3",
   "version": "3.7.1"
  }
 },
 "nbformat": 4,
 "nbformat_minor": 2
}
