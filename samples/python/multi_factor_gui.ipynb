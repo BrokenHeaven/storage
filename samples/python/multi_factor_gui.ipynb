{
 "cells": [
  {
   "cell_type": "markdown",
   "metadata": {},
   "source": [
    "## Prerequisites\n",
    "This notebook requires an experimental version of the cmdty-storage package only published on Test PyPI, plus the package ipysheet which provides the grids.\n",
    "\n",
    "`\n",
    "pip install -i https://test.pypi.org/simple/ cmdty-storage==0.1.0a14\n",
    "pip install ipysheet\n",
    "`\n",
    "\n",
    "If this notebook has been downloaded standalone, i.e. without downloading the whole storage repo,\n",
    "it requires the file [storage_gui.py](https://github.com/cmdty/storage/blob/master/samples/python/storage_gui.py) be in the same directory.\n"
   ]
  },
  {
   "cell_type": "code",
   "execution_count": 4,
   "metadata": {},
   "outputs": [
    {
     "data": {
      "application/vnd.jupyter.widget-view+json": {
       "model_id": "1b34c84fb80b465f81087fecc059cd32",
       "version_major": 2,
       "version_minor": 0
      },
      "text/plain": [
       "Tab(children=(HBox(children=(VBox(children=(DatePicker(value=datetime.date(2020, 10, 24), description='Val Dat…"
      ]
     },
     "metadata": {},
     "output_type": "display_data"
    },
    {
     "data": {
      "application/vnd.jupyter.widget-view+json": {
       "model_id": "117ad00899254b99a23385e732768298",
       "version_major": 2,
       "version_minor": 0
      },
      "text/plain": [
       "Button(description='Calculate', style=ButtonStyle())"
      ]
     },
     "metadata": {},
     "output_type": "display_data"
    },
    {
     "data": {
      "application/vnd.jupyter.widget-view+json": {
       "model_id": "19cd85f4db0e478eaa09fc9c98b7f63d",
       "version_major": 2,
       "version_minor": 0
      },
      "text/plain": [
       "FloatProgress(value=0.0, max=1.0)"
      ]
     },
     "metadata": {},
     "output_type": "display_data"
    },
    {
     "data": {
      "application/vnd.jupyter.widget-view+json": {
       "model_id": "7a0441ebf46d408db6a62bc98e04899d",
       "version_major": 2,
       "version_minor": 0
      },
      "text/plain": [
       "VBox(children=(Text(value='', description='Full Value', disabled=True), Text(value='', description='Intr. Valu…"
      ]
     },
     "metadata": {},
     "output_type": "display_data"
    },
    {
     "data": {
      "application/vnd.jupyter.widget-view+json": {
       "model_id": "9b43f23f9c72428d8c21d7b73d9c02e4",
       "version_major": 2,
       "version_minor": 0
      },
      "text/plain": [
       "Output()"
      ]
     },
     "metadata": {},
     "output_type": "display_data"
    }
   ],
   "source": [
    "%matplotlib inline\n",
    "import storage_gui as sg\n",
    "sg.display_gui()"
   ]
  },
  {
   "cell_type": "markdown",
   "metadata": {},
   "source": [
    "### To Do\n",
    "* Smoothing of forward curve.\n",
    "* Sort out truncation of labels.\n",
    "* Interest rate curve, not flat rate.\n",
    "* Ability to select granularity.\n",
    "* Display more output data:\n",
    "    * Projected inventory.\n",
    "    * Simulation results.\n",
    "* Use qgrid (or similar) to display data in grids.\n",
    "    "
   ]
  },
  {
   "cell_type": "code",
   "execution_count": 5,
   "metadata": {},
   "outputs": [
    {
     "data": {
      "application/vnd.jupyter.widget-view+json": {
       "model_id": "061d1d87a12843d79e2ce175dffb05bd",
       "version_major": 2,
       "version_minor": 0
      },
      "text/plain": [
       "Button(description='Populate Test Data', style=ButtonStyle())"
      ]
     },
     "metadata": {},
     "output_type": "display_data"
    }
   ],
   "source": [
    "sg.test_data_btn()"
   ]
  }
 ],
 "metadata": {
  "kernelspec": {
   "display_name": "Python 3",
   "language": "python",
   "name": "python3"
  },
  "language_info": {
   "codemirror_mode": {
    "name": "ipython",
    "version": 3
   },
   "file_extension": ".py",
   "mimetype": "text/x-python",
   "name": "python",
   "nbconvert_exporter": "python",
   "pygments_lexer": "ipython3",
   "version": "3.7.1"
  }
 },
 "nbformat": 4,
 "nbformat_minor": 2
}
