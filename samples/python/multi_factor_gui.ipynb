{
 "cells": [
  {
   "cell_type": "markdown",
   "metadata": {},
   "source": [
    "## Prerequisites\n",
    "This notebook requires an experimental version of the cmdty-storage package only published on Test PyPI, plus the package ipysheet which provides the grids.\n",
    "\n",
    "`\n",
    "pip install -i https://test.pypi.org/simple/ cmdty-storage==0.1.0a13\n",
    "pip install ipysheet\n",
    "`"
   ]
  },
  {
   "cell_type": "code",
   "execution_count": 1,
   "metadata": {},
   "outputs": [],
   "source": [
    "import pandas as pd\n",
    "import ipywidgets as ipw\n",
    "import ipysheet as ips\n",
    "from cmdty_storage import CmdtyStorage, three_factor_seasonal_value, intrinsic_value\n",
    "from datetime import date\n",
    "from IPython.display import display\n",
    "from ipywidgets.widgets.interaction import show_inline_matplotlib_plots\n",
    "from collections import namedtuple\n",
    "%matplotlib inline"
   ]
  },
  {
   "cell_type": "code",
   "execution_count": 4,
   "metadata": {
    "scrolled": false
   },
   "outputs": [
    {
     "data": {
      "application/vnd.jupyter.widget-view+json": {
       "model_id": "09ba130cbfd84c51be5d3e5c512e488a",
       "version_major": 2,
       "version_minor": 0
      },
      "text/plain": [
       "Tab(children=(HBox(children=(VBox(children=(DatePicker(value=datetime.date(2020, 10, 20), description='Val Dat…"
      ]
     },
     "metadata": {},
     "output_type": "display_data"
    },
    {
     "data": {
      "application/vnd.jupyter.widget-view+json": {
       "model_id": "091fcc68f9cc474abb0e487a7a17f71e",
       "version_major": 2,
       "version_minor": 0
      },
      "text/plain": [
       "Button(description='Calculate', style=ButtonStyle())"
      ]
     },
     "metadata": {},
     "output_type": "display_data"
    },
    {
     "data": {
      "application/vnd.jupyter.widget-view+json": {
       "model_id": "8b902e23bfeb427ea515e8b72082545f",
       "version_major": 2,
       "version_minor": 0
      },
      "text/plain": [
       "FloatProgress(value=0.0, max=1.0)"
      ]
     },
     "metadata": {},
     "output_type": "display_data"
    },
    {
     "data": {
      "application/vnd.jupyter.widget-view+json": {
       "model_id": "653a0149abaf4f2397c159a3f6c11dc9",
       "version_major": 2,
       "version_minor": 0
      },
      "text/plain": [
       "VBox(children=(Text(value='', description='Full Value', disabled=True), Text(value='', description='Intr. Valu…"
      ]
     },
     "metadata": {},
     "output_type": "display_data"
    },
    {
     "data": {
      "application/vnd.jupyter.widget-view+json": {
       "model_id": "267175c6c7ee46778a7e0159b8d027a8",
       "version_major": 2,
       "version_minor": 0
      },
      "text/plain": [
       "Output()"
      ]
     },
     "metadata": {},
     "output_type": "display_data"
    }
   ],
   "source": [
    "# Shared properties\n",
    "freq='D'\n",
    "num_fwd_rows = 15\n",
    "date_format = 'DD-MM-YYYY'\n",
    "num_ratch_rows = 20\n",
    "RatchetRow = namedtuple('RatchetRow', ['date', 'inventory', 'inject_rate', 'withdraw_rate'])\n",
    "\n",
    "def enumerate_ratchets():\n",
    "    ratchet_row = 0\n",
    "    while ratchet_row < num_ratch_rows and ratch_input_sheet[ratchet_row, 1].value != '':\n",
    "        yield RatchetRow(ratch_input_sheet[ratchet_row, 0].value, ratch_input_sheet[ratchet_row, 1].value,\n",
    "                        ratch_input_sheet[ratchet_row, 3].value, ratch_input_sheet[ratchet_row, 2].value)\n",
    "        ratchet_row+=1\n",
    "\n",
    "def read_ratchets():\n",
    "    ratchets = []\n",
    "    for ratch in enumerate_ratchets():\n",
    "        if ratch.date != '':\n",
    "            dt_item = (pd.Period(ratch.date, freq=freq), [(ratch.inventory, -ratch.inject_rate,\n",
    "                                                        ratch.withdraw_rate)])\n",
    "            ratchets.append(dt_item)\n",
    "        else:\n",
    "            dt_item[1].append((ratch.inventory, -ratch.inject_rate,\n",
    "                                                        ratch.withdraw_rate))\n",
    "    return ratchets\n",
    "\n",
    "# Forward curve input\n",
    "fwd_input_sheet = ips.sheet(rows=num_fwd_rows, columns=2, column_headers=['fwd_start', 'price'])\n",
    "for row_num in range(0, num_fwd_rows):\n",
    "    ips.cell(row_num, 0, '', date_format=date_format, type='date')\n",
    "    ips.cell(row_num, 1, '', type='numeric')\n",
    "\n",
    "def on_stor_type_change(change):\n",
    "    print(change)\n",
    "    \n",
    "# Common storage properties\n",
    "stor_type_wgt = ipw.RadioButtons(options=['Simple', 'Ratchets'], description='Storage Type')\n",
    "start_wgt = ipw.DatePicker(description='Start')\n",
    "end_wgt = ipw.DatePicker(description='End')\n",
    "inj_cost_wgt = ipw.FloatText(description='Injection Cost')\n",
    "with_cost_wgt = ipw.FloatText(description='Withdrw Cost')\n",
    "storage_common_wgt = ipw.HBox([ipw.VBox([start_wgt, end_wgt, inj_cost_wgt, with_cost_wgt]), stor_type_wgt])\n",
    "\n",
    "# Simple storage type properties\n",
    "invent_min_wgt = ipw.FloatText(description='Min Inventory')\n",
    "invent_max_wgt = ipw.FloatText(description='Max Inventory')\n",
    "inj_rate_wgt = ipw.FloatText(description='Injection Rate')\n",
    "with_rate_wgt = ipw.FloatText(description='Withdrw Rate')\n",
    "storage_simple_wgt = ipw.VBox([invent_min_wgt, invent_max_wgt, inj_rate_wgt, with_rate_wgt])\n",
    "\n",
    "# Ratchet storage type properties\n",
    "\n",
    "ratch_input_sheet = ips.sheet(rows=num_ratch_rows, columns=4, \n",
    "                              column_headers=['date', 'inventory', 'inject_rate', 'withdraw_rate'])\n",
    "for row_num in range(0, num_ratch_rows):\n",
    "    ips.cell(row_num, 0, '', date_format=date_format, type='date')\n",
    "    ips.cell(row_num, 1, '', type='numeric')\n",
    "    ips.cell(row_num, 2, '', type='numeric')\n",
    "    ips.cell(row_num, 3, '', type='numeric')\n",
    "\n",
    "# Compose storage\n",
    "storage_details_wgt = ipw.VBox([storage_common_wgt, storage_simple_wgt])\n",
    "\n",
    "def on_test_rad_change(change):\n",
    "    if change['new'] == 'Simple':\n",
    "        storage_details_wgt.children = (storage_common_wgt, storage_simple_wgt)\n",
    "    else:\n",
    "        storage_details_wgt.children = (storage_common_wgt, ratch_input_sheet)\n",
    "stor_type_wgt.observe(on_test_rad_change, names='value')\n",
    "\n",
    "val_date_wgt = ipw.DatePicker(description='Val Date', value=date.today())\n",
    "inventory_wgt = ipw.FloatText(description='Inventory')\n",
    "\n",
    "val_inputs_wgt = ipw.VBox([val_date_wgt, inventory_wgt])\n",
    "\n",
    "ir_wgt = ipw.FloatText(description='Intrst Rate %', step=0.005)\n",
    "\n",
    "spot_vol_wgt = ipw.FloatText(description='Spot Vol', step=0.01)\n",
    "spot_mr_wgt = ipw.FloatText(description='Spot Mean Rev', step=0.01)\n",
    "lt_vol_wgt = ipw.FloatText(description='Long Term Vol', step=0.01)\n",
    "seas_vol_wgt = ipw.FloatText(description='Seasonal Vol', step=0.01)\n",
    "vol_params_wgt = ipw.VBox([spot_vol_wgt, spot_mr_wgt, lt_vol_wgt, seas_vol_wgt])\n",
    "\n",
    "num_sims_wgt = ipw.IntText(description='Num Sims', value=1000, step=500)\n",
    "random_seed_wgt = ipw.IntText(description='Seed', value=11)\n",
    "grid_points_wgt = ipw.IntText(description='Grid Points', value=100, step=10)\n",
    "poly_degree_wgt = ipw.IntText(description='Poly Degree', value=3)\n",
    "reg_cross_wgt = ipw.Checkbox(description='Regress Cross Product', value=False, disabled=True)\n",
    "\n",
    "sim_params_wgt = ipw.VBox([num_sims_wgt, random_seed_wgt, grid_points_wgt, poly_degree_wgt,\n",
    "                              reg_cross_wgt])\n",
    "\n",
    "# Output Widgets\n",
    "progress_wgt = ipw.FloatProgress(min=0.0, max=1.0)\n",
    "full_value_wgt = ipw.Text(description='Full Value', disabled=True)\n",
    "intr_value_wgt = ipw.Text(description='Intr. Value', disabled=True)\n",
    "extr_value_wgt = ipw.Text(description='Extr. Value', disabled=True)\n",
    "value_wgts = [full_value_wgt, intr_value_wgt, extr_value_wgt]\n",
    "values_wgt = ipw.VBox(value_wgts)\n",
    "\n",
    "out = ipw.Output()\n",
    "\n",
    "mkt_data_wgt = ipw.HBox([val_inputs_wgt, fwd_input_sheet, ipw.VBox([vol_params_wgt, ir_wgt])])\n",
    "\n",
    "tab = ipw.Tab()\n",
    "tab_titles = ['Market Data', 'Storage Details', 'Simulation Params']\n",
    "for idx, title in enumerate(tab_titles):\n",
    "    tab.set_title(idx, title)\n",
    "tab.children = [mkt_data_wgt, storage_details_wgt, sim_params_wgt]\n",
    "\n",
    "def on_progress(progress):\n",
    "    progress_wgt.value = progress\n",
    "\n",
    "# Inputs Not Defined in GUI\n",
    "def twentieth_of_next_month(period): return period.asfreq('M').asfreq('D', 'end') + 20\n",
    "\n",
    "\n",
    "def read_fwd_curve():\n",
    "    fwd_periods = []\n",
    "    fwd_prices = []\n",
    "    fwd_row=0\n",
    "    while fwd_input_sheet[fwd_row, 0].value != '':\n",
    "        fwd_periods.append(pd.Period(fwd_input_sheet[fwd_row, 0].value, freq=freq))\n",
    "        fwd_prices.append(fwd_input_sheet[fwd_row, 1].value)\n",
    "        fwd_row+=1\n",
    "    return pd.Series(fwd_prices, pd.PeriodIndex(fwd_periods)).resample(freq).fillna('pad')\n",
    "\n",
    "def btn_clicked(b):\n",
    "    progress_wgt.value = 0.0\n",
    "    for vw in value_wgts:\n",
    "        vw.value = ''\n",
    "    btn.disabled = True\n",
    "    out.clear_output()\n",
    "    try:\n",
    "        global fwd_curve\n",
    "        fwd_curve = read_fwd_curve()\n",
    "        global storage\n",
    "        global val_results_3f\n",
    "        if stor_type_wgt.value == 'Simple':\n",
    "            storage = CmdtyStorage(freq, storage_start=start_wgt.value, storage_end=end_wgt.value, \n",
    "                                   injection_cost=inj_cost_wgt.value, withdrawal_cost=with_cost_wgt.value,\n",
    "                                  min_inventory=invent_min_wgt.value, max_inventory=invent_max_wgt.value,\n",
    "                                  max_injection_rate=inj_rate_wgt.value, max_withdrawal_rate=with_rate_wgt.value)\n",
    "        else:\n",
    "            ratchets = read_ratchets()\n",
    "            storage = CmdtyStorage(freq, storage_start=start_wgt.value, storage_end=end_wgt.value, \n",
    "                       injection_cost=inj_cost_wgt.value, withdrawal_cost=with_cost_wgt.value,\n",
    "                       constraints=ratchets)\n",
    "        \n",
    "        interest_rate_curve = pd.Series(index=pd.period_range(val_date_wgt.value, \n",
    "                                  twentieth_of_next_month(pd.Period(end_wgt.value, freq='D')), freq='D'), dtype='float64')\n",
    "        interest_rate_curve[:] = ir_wgt.value\n",
    "        val_results_3f = three_factor_seasonal_value(storage, val_date_wgt.value, inventory_wgt.value, fwd_curve=fwd_curve,\n",
    "                                     interest_rates=interest_rate_curve, settlement_rule=twentieth_of_next_month,\n",
    "                                    spot_mean_reversion=spot_mr_wgt.value, spot_vol=spot_vol_wgt.value,\n",
    "                                    long_term_vol=lt_vol_wgt.value, seasonal_vol=seas_vol_wgt.value,\n",
    "                                    num_sims=num_sims_wgt.value, seed=random_seed_wgt.value,\n",
    "                                    regress_poly_degree=poly_degree_wgt.value, regress_cross_products=reg_cross_wgt.value,\n",
    "                                    num_inventory_grid_points=grid_points_wgt.value, on_progress_update=on_progress)\n",
    "        full_value_wgt.value = \"{0:,.0f}\".format(val_results_3f.npv)\n",
    "        intr_value_wgt.value = \"{0:,.0f}\".format(val_results_3f.intrinsic_npv)\n",
    "        extr_value_wgt.value = \"{0:,.0f}\".format(val_results_3f.extrinsic_npv)\n",
    "        intr_delta = val_results_3f.intrinsic_profile['net_volume']\n",
    "        with out:\n",
    "            ax_1 = val_results_3f.deltas.plot(legend=True)\n",
    "            ax_1.set_ylabel('Delta')\n",
    "            intr_delta.plot(legend=True, ax=ax_1)\n",
    "            active_fwd_curve = fwd_curve[storage.start:storage.end]\n",
    "            ax_2 = active_fwd_curve.plot(secondary_y=True, legend=True, ax=ax_1)\n",
    "            ax_2.set_ylabel('Forward Price')\n",
    "            ax_1.legend(['Full Delta', 'Intrinsic Delta'])\n",
    "            ax_2.legend(['Forward Curve'])\n",
    "            show_inline_matplotlib_plots()\n",
    "    except Exception as e:\n",
    "        with out:\n",
    "            print('Exception:')\n",
    "            print(e)\n",
    "    finally:\n",
    "        btn.disabled = False\n",
    "    \n",
    "\n",
    "btn = ipw.Button(description='Calculate')\n",
    "btn.on_click(btn_clicked)  \n",
    "\n",
    "display(tab)\n",
    "display(btn)\n",
    "display(progress_wgt)\n",
    "display(values_wgt)\n",
    "display(out)"
   ]
  },
  {
   "cell_type": "markdown",
   "metadata": {},
   "source": [
    "### To Do\n",
    "* Smoothing of forward curve.\n",
    "* Sort out truncation of labels.\n",
    "* Interest rate curve, not flat rate.\n",
    "* Ability to select granularity.\n"
   ]
  },
  {
   "cell_type": "code",
   "execution_count": 3,
   "metadata": {},
   "outputs": [
    {
     "data": {
      "application/vnd.jupyter.widget-view+json": {
       "model_id": "e7d1eaaed80648ae842ceef9628f910e",
       "version_major": 2,
       "version_minor": 0
      },
      "text/plain": [
       "Button(description='Populate Test Data', style=ButtonStyle())"
      ]
     },
     "metadata": {},
     "output_type": "display_data"
    }
   ],
   "source": [
    "from datetime import timedelta\n",
    "\n",
    "def btn_clicked_2(b):\n",
    "    today = date.today()\n",
    "    inventory_wgt.value = 1456\n",
    "    start_wgt.value = today + timedelta(days=5)\n",
    "    end_wgt.value = today + timedelta(days=60)\n",
    "    invent_max_wgt.value = 100000\n",
    "    inj_rate_wgt.value = 260\n",
    "    with_rate_wgt.value = 130\n",
    "    inj_cost_wgt.value = 1.1\n",
    "    with_cost_wgt.value = 1.3\n",
    "    ir_wgt.value = 0.005\n",
    "    spot_vol_wgt.value = 1.23\n",
    "    spot_mr_wgt.value = 14.5\n",
    "    lt_vol_wgt.value = 0.23\n",
    "    seas_vol_wgt.value = 0.39\n",
    "    for idx, price in enumerate([58.89, 61.41, 62.58, 58.9, 43.7]):\n",
    "        fwd_input_sheet[idx, 1].value = price\n",
    "    for idx, do in enumerate([0, 30, 60, 90, 150]):\n",
    "        fwd_input_sheet[idx, 0].value = (today + timedelta(days=do)).strftime('%d-%m-%Y')\n",
    "    # Populate ratchets\n",
    "    ratch_input_sheet[0, 0].value = today.strftime('%d-%m-%Y')\n",
    "    for idx, inv in enumerate([0.0, 25000.0, 50000.0, 60000.0, 65000.0]):\n",
    "        ratch_input_sheet[idx, 1].value = inv\n",
    "    for idx, inj in enumerate([650.0, 552.5, 512.8, 498.6, 480.0]):\n",
    "        ratch_input_sheet[idx, 2].value = inj\n",
    "    for idx, wthd in enumerate([702.7, 785.0, 790.6, 825.6, 850.4]):\n",
    "        ratch_input_sheet[idx, 3].value = wthd\n",
    "    ratch_2_offset = 5\n",
    "    ratch_input_sheet[ratch_2_offset, 0].value = (today + timedelta(days = 150)).strftime('%d-%m-%Y')\n",
    "    for idx, inv in enumerate([0.0, 24000.0, 48000.0, 61000.0, 65000.0]):\n",
    "        ratch_input_sheet[ratch_2_offset + idx, 1].value = inv\n",
    "    for idx, inj in enumerate([645.8, 593.65, 568.55, 560.8, 550.0]):\n",
    "        ratch_input_sheet[ratch_2_offset + idx, 2].value = inj\n",
    "    for idx, wthd in enumerate([752.5, 813.7, 836.45, 854.78, 872.9]):\n",
    "        ratch_input_sheet[ratch_2_offset + idx, 3].value = wthd\n",
    "    \n",
    "    \n",
    "btn2 = ipw.Button(description='Populate Test Data')\n",
    "btn2.on_click(btn_clicked_2)\n",
    "\n",
    "display(btn2)"
   ]
  }
 ],
 "metadata": {
  "kernelspec": {
   "display_name": "Python 3",
   "language": "python",
   "name": "python3"
  },
  "language_info": {
   "codemirror_mode": {
    "name": "ipython",
    "version": 3
   },
   "file_extension": ".py",
   "mimetype": "text/x-python",
   "name": "python",
   "nbconvert_exporter": "python",
   "pygments_lexer": "ipython3",
   "version": "3.7.1"
  }
 },
 "nbformat": 4,
 "nbformat_minor": 2
}
